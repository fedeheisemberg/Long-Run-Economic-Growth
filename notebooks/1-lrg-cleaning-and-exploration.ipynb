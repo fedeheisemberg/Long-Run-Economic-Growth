{
 "cells": [
  {
   "cell_type": "markdown",
   "metadata": {},
   "source": [
    "## Crecimiento económico de largo plazo.\n",
    "### Hoy tilizaremos Python, pandas y Matplotlib para descargar, organizar y visualizar datos históricos sobre el crecimiento económico.\n",
    "\n",
    "Además de aprender a utilizar estas herramientas de forma más general, las usaremos para describir hechos sobre experiencias de crecimiento económico en muchos países a lo largo de varios siglos.\n",
    "\n",
    "Estos \"datos de crecimiento\" son interesantes por varias razones.\n",
    "\n",
    "Explicar los hechos del crecimiento es uno de los principales objetivos tanto de la \"economía del desarrollo\" como de la \"historia económica\".\n",
    "\n",
    "Además, los datos sobre el crecimiento son importantes para los historiadores a la hora de estudiar las fuerzas y dinámicas geopolíticas.\n",
    "\n",
    "Estos gráficos mostrarán cómo la \"Revolución Industrial\" comenzó en Gran Bretaña a finales del siglo XVIII y cómo fue migrando de un país a otro.\n",
    "\n",
    "En pocas palabras, esta conferencia registra las trayectorias de crecimiento de varios países durante largos periodos de tiempo.\n",
    "\n",
    "Mientras que algunos países han experimentado un rápido crecimiento a largo plazo que ha durado cien años, otros no.\n",
    "\n",
    "Dado que las poblaciones difieren de un país a otro y varían dentro de un mismo país a lo largo del tiempo, será interesante describir tanto el PIB total como el PIB per cápita a medida que evolucionan dentro de un mismo país.\n",
    "\n",
    "Primero vamos a importar los paquetes necesarios para explorar lo que dicen los datos sobre el crecimiento a largo plazo"
   ]
  },
  {
   "cell_type": "code",
   "execution_count": 64,
   "metadata": {},
   "outputs": [],
   "source": [
    "import pandas as pd\n",
    "import matplotlib.pyplot as plt\n",
    "import matplotlib.cm as cm\n",
    "import numpy as np\n",
    "import os\n",
    "from collections import namedtuple"
   ]
  },
  {
   "cell_type": "code",
   "execution_count": 65,
   "metadata": {},
   "outputs": [
    {
     "data": {
      "text/html": [
       "<div>\n",
       "<style scoped>\n",
       "    .dataframe tbody tr th:only-of-type {\n",
       "        vertical-align: middle;\n",
       "    }\n",
       "\n",
       "    .dataframe tbody tr th {\n",
       "        vertical-align: top;\n",
       "    }\n",
       "\n",
       "    .dataframe thead th {\n",
       "        text-align: right;\n",
       "    }\n",
       "</style>\n",
       "<table border=\"1\" class=\"dataframe\">\n",
       "  <thead>\n",
       "    <tr style=\"text-align: right;\">\n",
       "      <th></th>\n",
       "      <th>countrycode</th>\n",
       "      <th>country</th>\n",
       "      <th>year</th>\n",
       "      <th>gdppc</th>\n",
       "      <th>pop</th>\n",
       "    </tr>\n",
       "  </thead>\n",
       "  <tbody>\n",
       "    <tr>\n",
       "      <th>0</th>\n",
       "      <td>AFG</td>\n",
       "      <td>Afghanistan</td>\n",
       "      <td>1820</td>\n",
       "      <td>NaN</td>\n",
       "      <td>3280.0</td>\n",
       "    </tr>\n",
       "    <tr>\n",
       "      <th>1</th>\n",
       "      <td>AFG</td>\n",
       "      <td>Afghanistan</td>\n",
       "      <td>1870</td>\n",
       "      <td>NaN</td>\n",
       "      <td>4207.0</td>\n",
       "    </tr>\n",
       "    <tr>\n",
       "      <th>2</th>\n",
       "      <td>AFG</td>\n",
       "      <td>Afghanistan</td>\n",
       "      <td>1913</td>\n",
       "      <td>NaN</td>\n",
       "      <td>5730.0</td>\n",
       "    </tr>\n",
       "    <tr>\n",
       "      <th>3</th>\n",
       "      <td>AFG</td>\n",
       "      <td>Afghanistan</td>\n",
       "      <td>1950</td>\n",
       "      <td>1156.0</td>\n",
       "      <td>8150.0</td>\n",
       "    </tr>\n",
       "    <tr>\n",
       "      <th>4</th>\n",
       "      <td>AFG</td>\n",
       "      <td>Afghanistan</td>\n",
       "      <td>1951</td>\n",
       "      <td>1170.0</td>\n",
       "      <td>8284.0</td>\n",
       "    </tr>\n",
       "  </tbody>\n",
       "</table>\n",
       "</div>"
      ],
      "text/plain": [
       "  countrycode      country  year   gdppc     pop\n",
       "0         AFG  Afghanistan  1820     NaN  3280.0\n",
       "1         AFG  Afghanistan  1870     NaN  4207.0\n",
       "2         AFG  Afghanistan  1913     NaN  5730.0\n",
       "3         AFG  Afghanistan  1950  1156.0  8150.0\n",
       "4         AFG  Afghanistan  1951  1170.0  8284.0"
      ]
     },
     "execution_count": 65,
     "metadata": {},
     "output_type": "execute_result"
    }
   ],
   "source": [
    "# Obtener el directorio actual (notebooks)\n",
    "current_dir = os.getcwd()\n",
    "\n",
    "# Navegar un nivel hacia arriba para llegar al directorio base del proyecto\n",
    "base_dir = os.path.dirname(current_dir)\n",
    "\n",
    "# Construir la ruta al archivo CSV en la carpeta df/external\n",
    "xlsx_path = os.path.join(base_dir, 'data', 'external', 'mpd2020.xlsx')\n",
    "\n",
    "\n",
    "# Leer el archivo CSV usando pandas\n",
    "df = pd.read_excel(xlsx_path,sheet_name='Full data')\n",
    "\n",
    "# Mostrar las primeras filas del dfFrame\n",
    "\n",
    "df.head()"
   ]
  },
  {
   "cell_type": "code",
   "execution_count": 66,
   "metadata": {},
   "outputs": [
    {
     "data": {
      "text/plain": [
       "(21682, 5)"
      ]
     },
     "execution_count": 66,
     "metadata": {},
     "output_type": "execute_result"
    }
   ],
   "source": [
    "#Forma del dfset\n",
    "df.shape"
   ]
  },
  {
   "cell_type": "code",
   "execution_count": 67,
   "metadata": {},
   "outputs": [
    {
     "data": {
      "text/plain": [
       "countrycode     object\n",
       "country         object\n",
       "year             int64\n",
       "gdppc          float64\n",
       "pop            float64\n",
       "dtype: object"
      ]
     },
     "execution_count": 67,
     "metadata": {},
     "output_type": "execute_result"
    }
   ],
   "source": [
    "# Información sobre los tipos de datos\n",
    "df.dtypes"
   ]
  },
  {
   "cell_type": "code",
   "execution_count": 68,
   "metadata": {},
   "outputs": [
    {
     "name": "stdout",
     "output_type": "stream",
     "text": [
      "<class 'pandas.core.frame.DataFrame'>\n",
      "RangeIndex: 21682 entries, 0 to 21681\n",
      "Data columns (total 5 columns):\n",
      " #   Column       Non-Null Count  Dtype  \n",
      "---  ------       --------------  -----  \n",
      " 0   countrycode  21682 non-null  object \n",
      " 1   country      21682 non-null  object \n",
      " 2   year         21682 non-null  int64  \n",
      " 3   gdppc        19706 non-null  float64\n",
      " 4   pop          17199 non-null  float64\n",
      "dtypes: float64(2), int64(1), object(2)\n",
      "memory usage: 847.1+ KB\n"
     ]
    }
   ],
   "source": [
    "df.info()"
   ]
  },
  {
   "cell_type": "code",
   "execution_count": 69,
   "metadata": {},
   "outputs": [
    {
     "data": {
      "text/plain": [
       "Index(['countrycode', 'country', 'year', 'gdppc', 'pop'], dtype='object')"
      ]
     },
     "execution_count": 69,
     "metadata": {},
     "output_type": "execute_result"
    }
   ],
   "source": [
    "df.columns"
   ]
  },
  {
   "cell_type": "markdown",
   "metadata": {},
   "source": [
    "### Podemos realizar un analisis informativo y descriptivo del dataset. "
   ]
  },
  {
   "cell_type": "code",
   "execution_count": 70,
   "metadata": {},
   "outputs": [
    {
     "data": {
      "text/html": [
       "<div>\n",
       "<style scoped>\n",
       "    .dataframe tbody tr th:only-of-type {\n",
       "        vertical-align: middle;\n",
       "    }\n",
       "\n",
       "    .dataframe tbody tr th {\n",
       "        vertical-align: top;\n",
       "    }\n",
       "\n",
       "    .dataframe thead th {\n",
       "        text-align: right;\n",
       "    }\n",
       "</style>\n",
       "<table border=\"1\" class=\"dataframe\">\n",
       "  <thead>\n",
       "    <tr style=\"text-align: right;\">\n",
       "      <th></th>\n",
       "      <th>year</th>\n",
       "      <th>gdppc</th>\n",
       "      <th>pop</th>\n",
       "    </tr>\n",
       "  </thead>\n",
       "  <tbody>\n",
       "    <tr>\n",
       "      <th>count</th>\n",
       "      <td>21682.000000</td>\n",
       "      <td>19706.000000</td>\n",
       "      <td>1.719900e+04</td>\n",
       "    </tr>\n",
       "    <tr>\n",
       "      <th>mean</th>\n",
       "      <td>1880.124297</td>\n",
       "      <td>6693.285574</td>\n",
       "      <td>2.980356e+04</td>\n",
       "    </tr>\n",
       "    <tr>\n",
       "      <th>std</th>\n",
       "      <td>187.856176</td>\n",
       "      <td>10111.643395</td>\n",
       "      <td>9.842090e+04</td>\n",
       "    </tr>\n",
       "    <tr>\n",
       "      <th>min</th>\n",
       "      <td>1.000000</td>\n",
       "      <td>0.000000</td>\n",
       "      <td>2.000000e+00</td>\n",
       "    </tr>\n",
       "    <tr>\n",
       "      <th>25%</th>\n",
       "      <td>1861.000000</td>\n",
       "      <td>1553.000000</td>\n",
       "      <td>2.235000e+03</td>\n",
       "    </tr>\n",
       "    <tr>\n",
       "      <th>50%</th>\n",
       "      <td>1954.000000</td>\n",
       "      <td>2794.000000</td>\n",
       "      <td>5.830000e+03</td>\n",
       "    </tr>\n",
       "    <tr>\n",
       "      <th>75%</th>\n",
       "      <td>1986.000000</td>\n",
       "      <td>7099.541625</td>\n",
       "      <td>1.889884e+04</td>\n",
       "    </tr>\n",
       "    <tr>\n",
       "      <th>max</th>\n",
       "      <td>2018.000000</td>\n",
       "      <td>156299.000000</td>\n",
       "      <td>1.385439e+06</td>\n",
       "    </tr>\n",
       "  </tbody>\n",
       "</table>\n",
       "</div>"
      ],
      "text/plain": [
       "               year          gdppc           pop\n",
       "count  21682.000000   19706.000000  1.719900e+04\n",
       "mean    1880.124297    6693.285574  2.980356e+04\n",
       "std      187.856176   10111.643395  9.842090e+04\n",
       "min        1.000000       0.000000  2.000000e+00\n",
       "25%     1861.000000    1553.000000  2.235000e+03\n",
       "50%     1954.000000    2794.000000  5.830000e+03\n",
       "75%     1986.000000    7099.541625  1.889884e+04\n",
       "max     2018.000000  156299.000000  1.385439e+06"
      ]
     },
     "execution_count": 70,
     "metadata": {},
     "output_type": "execute_result"
    }
   ],
   "source": [
    "df.describe()"
   ]
  },
  {
   "cell_type": "code",
   "execution_count": 71,
   "metadata": {},
   "outputs": [
    {
     "data": {
      "text/plain": [
       "countrycode       0\n",
       "country           0\n",
       "year              0\n",
       "gdppc          1976\n",
       "pop            4483\n",
       "dtype: int64"
      ]
     },
     "execution_count": 71,
     "metadata": {},
     "output_type": "execute_result"
    }
   ],
   "source": [
    "#Podemos observar que tenemos valores nulos en el PBI per capita y la población.\n",
    "df.isna().sum()"
   ]
  },
  {
   "cell_type": "code",
   "execution_count": 72,
   "metadata": {},
   "outputs": [
    {
     "data": {
      "text/plain": [
       "0"
      ]
     },
     "execution_count": 72,
     "metadata": {},
     "output_type": "execute_result"
    }
   ],
   "source": [
    "df.duplicated().sum()"
   ]
  },
  {
   "cell_type": "markdown",
   "metadata": {},
   "source": [
    "Podemos ver que este conjunto de datos contiene el PIB per cápita (gdppc) y la población (pop) de muchos países y años.\n",
    "\n",
    "Veamos cuántos y qué países están disponibles en este conjunto de datos"
   ]
  },
  {
   "cell_type": "code",
   "execution_count": 73,
   "metadata": {},
   "outputs": [
    {
     "data": {
      "text/plain": [
       "169"
      ]
     },
     "execution_count": 73,
     "metadata": {},
     "output_type": "execute_result"
    }
   ],
   "source": [
    "#Podemos ver que contamos con 169 paises usando el metodo unique.\n",
    "countries = df['country'].unique()\n",
    "len(countries) #Con len lo transformamos a una lista"
   ]
  },
  {
   "cell_type": "markdown",
   "metadata": {},
   "source": [
    "Ahora podemos explorar algunos de los 169 países disponibles.\n",
    "\n",
    "Hagamos un bucle sobre cada país para saber qué años están disponibles para cada país"
   ]
  },
  {
   "cell_type": "code",
   "execution_count": 74,
   "metadata": {},
   "outputs": [
    {
     "data": {
      "text/html": [
       "<div>\n",
       "<style scoped>\n",
       "    .dataframe tbody tr th:only-of-type {\n",
       "        vertical-align: middle;\n",
       "    }\n",
       "\n",
       "    .dataframe tbody tr th {\n",
       "        vertical-align: top;\n",
       "    }\n",
       "\n",
       "    .dataframe thead th {\n",
       "        text-align: right;\n",
       "    }\n",
       "</style>\n",
       "<table border=\"1\" class=\"dataframe\">\n",
       "  <thead>\n",
       "    <tr style=\"text-align: right;\">\n",
       "      <th></th>\n",
       "      <th>countrycode</th>\n",
       "      <th>country</th>\n",
       "      <th>year</th>\n",
       "      <th>gdppc</th>\n",
       "      <th>pop</th>\n",
       "    </tr>\n",
       "  </thead>\n",
       "  <tbody>\n",
       "    <tr>\n",
       "      <th>21677</th>\n",
       "      <td>ZWE</td>\n",
       "      <td>Zimbabwe</td>\n",
       "      <td>2014</td>\n",
       "      <td>1594.0000</td>\n",
       "      <td>13313.99205</td>\n",
       "    </tr>\n",
       "    <tr>\n",
       "      <th>21678</th>\n",
       "      <td>ZWE</td>\n",
       "      <td>Zimbabwe</td>\n",
       "      <td>2015</td>\n",
       "      <td>1560.0000</td>\n",
       "      <td>13479.13812</td>\n",
       "    </tr>\n",
       "    <tr>\n",
       "      <th>21679</th>\n",
       "      <td>ZWE</td>\n",
       "      <td>Zimbabwe</td>\n",
       "      <td>2016</td>\n",
       "      <td>1534.0000</td>\n",
       "      <td>13664.79457</td>\n",
       "    </tr>\n",
       "    <tr>\n",
       "      <th>21680</th>\n",
       "      <td>ZWE</td>\n",
       "      <td>Zimbabwe</td>\n",
       "      <td>2017</td>\n",
       "      <td>1582.3662</td>\n",
       "      <td>13870.26413</td>\n",
       "    </tr>\n",
       "    <tr>\n",
       "      <th>21681</th>\n",
       "      <td>ZWE</td>\n",
       "      <td>Zimbabwe</td>\n",
       "      <td>2018</td>\n",
       "      <td>1611.4052</td>\n",
       "      <td>14096.61179</td>\n",
       "    </tr>\n",
       "  </tbody>\n",
       "</table>\n",
       "</div>"
      ],
      "text/plain": [
       "      countrycode   country  year      gdppc          pop\n",
       "21677         ZWE  Zimbabwe  2014  1594.0000  13313.99205\n",
       "21678         ZWE  Zimbabwe  2015  1560.0000  13479.13812\n",
       "21679         ZWE  Zimbabwe  2016  1534.0000  13664.79457\n",
       "21680         ZWE  Zimbabwe  2017  1582.3662  13870.26413\n",
       "21681         ZWE  Zimbabwe  2018  1611.4052  14096.61179"
      ]
     },
     "execution_count": 74,
     "metadata": {},
     "output_type": "execute_result"
    }
   ],
   "source": [
    "df.tail()"
   ]
  },
  {
   "cell_type": "code",
   "execution_count": 75,
   "metadata": {},
   "outputs": [
    {
     "data": {
      "text/html": [
       "<div>\n",
       "<style scoped>\n",
       "    .dataframe tbody tr th:only-of-type {\n",
       "        vertical-align: middle;\n",
       "    }\n",
       "\n",
       "    .dataframe tbody tr th {\n",
       "        vertical-align: top;\n",
       "    }\n",
       "\n",
       "    .dataframe thead th {\n",
       "        text-align: right;\n",
       "    }\n",
       "</style>\n",
       "<table border=\"1\" class=\"dataframe\">\n",
       "  <thead>\n",
       "    <tr style=\"text-align: right;\">\n",
       "      <th></th>\n",
       "      <th>min_year</th>\n",
       "      <th>max_year</th>\n",
       "    </tr>\n",
       "    <tr>\n",
       "      <th>country</th>\n",
       "      <th></th>\n",
       "      <th></th>\n",
       "    </tr>\n",
       "  </thead>\n",
       "  <tbody>\n",
       "    <tr>\n",
       "      <th>Afghanistan</th>\n",
       "      <td>1820</td>\n",
       "      <td>2018</td>\n",
       "    </tr>\n",
       "    <tr>\n",
       "      <th>Angola</th>\n",
       "      <td>1950</td>\n",
       "      <td>2018</td>\n",
       "    </tr>\n",
       "    <tr>\n",
       "      <th>Albania</th>\n",
       "      <td>1</td>\n",
       "      <td>2018</td>\n",
       "    </tr>\n",
       "    <tr>\n",
       "      <th>United Arab Emirates</th>\n",
       "      <td>1950</td>\n",
       "      <td>2018</td>\n",
       "    </tr>\n",
       "    <tr>\n",
       "      <th>Argentina</th>\n",
       "      <td>1800</td>\n",
       "      <td>2018</td>\n",
       "    </tr>\n",
       "  </tbody>\n",
       "</table>\n",
       "</div>"
      ],
      "text/plain": [
       "                      min_year  max_year\n",
       "country                                 \n",
       "Afghanistan               1820      2018\n",
       "Angola                    1950      2018\n",
       "Albania                      1      2018\n",
       "United Arab Emirates      1950      2018\n",
       "Argentina                 1800      2018"
      ]
     },
     "execution_count": 75,
     "metadata": {},
     "output_type": "execute_result"
    }
   ],
   "source": [
    "country_years = []\n",
    "for country in countries:\n",
    "    cy_df = df[df.country == country]['year']\n",
    "    ymin, ymax = cy_df.min(), cy_df.max()\n",
    "    country_years.append((country, ymin, ymax))\n",
    "country_years = pd.DataFrame(country_years,\n",
    "                    columns=['country', 'min_year', 'max_year']).set_index('country')\n",
    "country_years.head()"
   ]
  },
  {
   "cell_type": "markdown",
   "metadata": {},
   "source": [
    "Ahora vamos a transformar los datos originales en algunas variables convenientes para permitir un acceso más rápido a los datos de las series temporales de los países.\n",
    "\n",
    "Podemos crear una correspondencia útil entre los códigos de los países y sus nombres en este conjunto de datos"
   ]
  },
  {
   "cell_type": "code",
   "execution_count": 76,
   "metadata": {},
   "outputs": [
    {
     "data": {
      "text/html": [
       "<div>\n",
       "<style scoped>\n",
       "    .dataframe tbody tr th:only-of-type {\n",
       "        vertical-align: middle;\n",
       "    }\n",
       "\n",
       "    .dataframe tbody tr th {\n",
       "        vertical-align: top;\n",
       "    }\n",
       "\n",
       "    .dataframe thead th {\n",
       "        text-align: right;\n",
       "    }\n",
       "</style>\n",
       "<table border=\"1\" class=\"dataframe\">\n",
       "  <thead>\n",
       "    <tr style=\"text-align: right;\">\n",
       "      <th></th>\n",
       "      <th>country</th>\n",
       "    </tr>\n",
       "    <tr>\n",
       "      <th>countrycode</th>\n",
       "      <th></th>\n",
       "    </tr>\n",
       "  </thead>\n",
       "  <tbody>\n",
       "    <tr>\n",
       "      <th>AFG</th>\n",
       "      <td>Afghanistan</td>\n",
       "    </tr>\n",
       "    <tr>\n",
       "      <th>AGO</th>\n",
       "      <td>Angola</td>\n",
       "    </tr>\n",
       "    <tr>\n",
       "      <th>ALB</th>\n",
       "      <td>Albania</td>\n",
       "    </tr>\n",
       "    <tr>\n",
       "      <th>ARE</th>\n",
       "      <td>United Arab Emirates</td>\n",
       "    </tr>\n",
       "    <tr>\n",
       "      <th>ARG</th>\n",
       "      <td>Argentina</td>\n",
       "    </tr>\n",
       "    <tr>\n",
       "      <th>...</th>\n",
       "      <td>...</td>\n",
       "    </tr>\n",
       "    <tr>\n",
       "      <th>YEM</th>\n",
       "      <td>Yemen</td>\n",
       "    </tr>\n",
       "    <tr>\n",
       "      <th>YUG</th>\n",
       "      <td>Former Yugoslavia</td>\n",
       "    </tr>\n",
       "    <tr>\n",
       "      <th>ZAF</th>\n",
       "      <td>South Africa</td>\n",
       "    </tr>\n",
       "    <tr>\n",
       "      <th>ZMB</th>\n",
       "      <td>Zambia</td>\n",
       "    </tr>\n",
       "    <tr>\n",
       "      <th>ZWE</th>\n",
       "      <td>Zimbabwe</td>\n",
       "    </tr>\n",
       "  </tbody>\n",
       "</table>\n",
       "<p>169 rows × 1 columns</p>\n",
       "</div>"
      ],
      "text/plain": [
       "                          country\n",
       "countrycode                      \n",
       "AFG                   Afghanistan\n",
       "AGO                        Angola\n",
       "ALB                       Albania\n",
       "ARE          United Arab Emirates\n",
       "ARG                     Argentina\n",
       "...                           ...\n",
       "YEM                         Yemen\n",
       "YUG             Former Yugoslavia\n",
       "ZAF                  South Africa\n",
       "ZMB                        Zambia\n",
       "ZWE                      Zimbabwe\n",
       "\n",
       "[169 rows x 1 columns]"
      ]
     },
     "execution_count": 76,
     "metadata": {},
     "output_type": "execute_result"
    }
   ],
   "source": [
    "# Crea un DataFrame 'code_to_name' a partir de 'df' seleccionando solo las columnas 'countrycode' y 'country'.\n",
    "# Usa drop_duplicates() para eliminar filas duplicadas basadas en estas dos columnas, asegurándose de que cada código de país esté asociado con un solo nombre de país.\n",
    "# reset_index(drop=True) reinicia el índice del DataFrame resultante para que sea numérico y consecutivo, eliminando el índice anterior.\n",
    "# set_index(['countrycode']) establece 'countrycode' como el nuevo índice del DataFrame, facilitando la búsqueda por código de país.\n",
    "code_to_name = df[\n",
    "    ['countrycode', 'country']].drop_duplicates().reset_index(drop=True).set_index(['countrycode'])\n",
    "code_to_name"
   ]
  },
  {
   "cell_type": "markdown",
   "metadata": {},
   "source": [
    "Ahora podemos centrarnos en el PIB per cápita (gdppc) y generar un amplio formato de datos"
   ]
  },
  {
   "cell_type": "code",
   "execution_count": 77,
   "metadata": {},
   "outputs": [
    {
     "data": {
      "text/html": [
       "<div>\n",
       "<style scoped>\n",
       "    .dataframe tbody tr th:only-of-type {\n",
       "        vertical-align: middle;\n",
       "    }\n",
       "\n",
       "    .dataframe tbody tr th {\n",
       "        vertical-align: top;\n",
       "    }\n",
       "\n",
       "    .dataframe thead th {\n",
       "        text-align: right;\n",
       "    }\n",
       "</style>\n",
       "<table border=\"1\" class=\"dataframe\">\n",
       "  <thead>\n",
       "    <tr style=\"text-align: right;\">\n",
       "      <th>countrycode</th>\n",
       "      <th>AFG</th>\n",
       "      <th>AGO</th>\n",
       "      <th>ALB</th>\n",
       "      <th>ARE</th>\n",
       "      <th>ARG</th>\n",
       "      <th>ARM</th>\n",
       "      <th>AUS</th>\n",
       "      <th>AUT</th>\n",
       "      <th>AZE</th>\n",
       "      <th>BDI</th>\n",
       "      <th>...</th>\n",
       "      <th>URY</th>\n",
       "      <th>USA</th>\n",
       "      <th>UZB</th>\n",
       "      <th>VEN</th>\n",
       "      <th>VNM</th>\n",
       "      <th>YEM</th>\n",
       "      <th>YUG</th>\n",
       "      <th>ZAF</th>\n",
       "      <th>ZMB</th>\n",
       "      <th>ZWE</th>\n",
       "    </tr>\n",
       "    <tr>\n",
       "      <th>year</th>\n",
       "      <th></th>\n",
       "      <th></th>\n",
       "      <th></th>\n",
       "      <th></th>\n",
       "      <th></th>\n",
       "      <th></th>\n",
       "      <th></th>\n",
       "      <th></th>\n",
       "      <th></th>\n",
       "      <th></th>\n",
       "      <th></th>\n",
       "      <th></th>\n",
       "      <th></th>\n",
       "      <th></th>\n",
       "      <th></th>\n",
       "      <th></th>\n",
       "      <th></th>\n",
       "      <th></th>\n",
       "      <th></th>\n",
       "      <th></th>\n",
       "      <th></th>\n",
       "    </tr>\n",
       "  </thead>\n",
       "  <tbody>\n",
       "    <tr>\n",
       "      <th>2014</th>\n",
       "      <td>2022.0000</td>\n",
       "      <td>8673.0000</td>\n",
       "      <td>9808.0000</td>\n",
       "      <td>72601.0000</td>\n",
       "      <td>19183.0000</td>\n",
       "      <td>9735.0000</td>\n",
       "      <td>47867.0000</td>\n",
       "      <td>41338.0000</td>\n",
       "      <td>17439.0000</td>\n",
       "      <td>748.0000</td>\n",
       "      <td>...</td>\n",
       "      <td>19160.0000</td>\n",
       "      <td>51664.0000</td>\n",
       "      <td>9085.0000</td>\n",
       "      <td>20317.0000</td>\n",
       "      <td>5455.0000</td>\n",
       "      <td>4054.0000</td>\n",
       "      <td>14627.0000</td>\n",
       "      <td>12242.0000</td>\n",
       "      <td>3478.0000</td>\n",
       "      <td>1594.0000</td>\n",
       "    </tr>\n",
       "    <tr>\n",
       "      <th>2015</th>\n",
       "      <td>1928.0000</td>\n",
       "      <td>8689.0000</td>\n",
       "      <td>10032.0000</td>\n",
       "      <td>74746.0000</td>\n",
       "      <td>19502.0000</td>\n",
       "      <td>10042.0000</td>\n",
       "      <td>48357.0000</td>\n",
       "      <td>41294.0000</td>\n",
       "      <td>17460.0000</td>\n",
       "      <td>694.0000</td>\n",
       "      <td>...</td>\n",
       "      <td>19244.0000</td>\n",
       "      <td>52591.0000</td>\n",
       "      <td>9720.0000</td>\n",
       "      <td>18802.0000</td>\n",
       "      <td>5763.0000</td>\n",
       "      <td>2844.0000</td>\n",
       "      <td>14971.0000</td>\n",
       "      <td>12246.0000</td>\n",
       "      <td>3478.0000</td>\n",
       "      <td>1560.0000</td>\n",
       "    </tr>\n",
       "    <tr>\n",
       "      <th>2016</th>\n",
       "      <td>1929.0000</td>\n",
       "      <td>8453.0000</td>\n",
       "      <td>10342.0000</td>\n",
       "      <td>75876.0000</td>\n",
       "      <td>18875.0000</td>\n",
       "      <td>10080.0000</td>\n",
       "      <td>48845.0000</td>\n",
       "      <td>41445.0000</td>\n",
       "      <td>16645.0000</td>\n",
       "      <td>665.0000</td>\n",
       "      <td>...</td>\n",
       "      <td>19468.0000</td>\n",
       "      <td>53015.0000</td>\n",
       "      <td>10381.0000</td>\n",
       "      <td>15219.0000</td>\n",
       "      <td>6062.0000</td>\n",
       "      <td>2506.0000</td>\n",
       "      <td>15416.0000</td>\n",
       "      <td>12139.0000</td>\n",
       "      <td>3479.0000</td>\n",
       "      <td>1534.0000</td>\n",
       "    </tr>\n",
       "    <tr>\n",
       "      <th>2017</th>\n",
       "      <td>2014.7453</td>\n",
       "      <td>8146.4354</td>\n",
       "      <td>10702.1201</td>\n",
       "      <td>76643.4984</td>\n",
       "      <td>19200.9061</td>\n",
       "      <td>10859.3783</td>\n",
       "      <td>49265.6135</td>\n",
       "      <td>42177.3706</td>\n",
       "      <td>16522.3072</td>\n",
       "      <td>671.3169</td>\n",
       "      <td>...</td>\n",
       "      <td>19918.1361</td>\n",
       "      <td>54007.7698</td>\n",
       "      <td>10743.8666</td>\n",
       "      <td>12879.1350</td>\n",
       "      <td>6422.0865</td>\n",
       "      <td>2321.9239</td>\n",
       "      <td>15960.8432</td>\n",
       "      <td>12189.3579</td>\n",
       "      <td>3497.5818</td>\n",
       "      <td>1582.3662</td>\n",
       "    </tr>\n",
       "    <tr>\n",
       "      <th>2018</th>\n",
       "      <td>1934.5550</td>\n",
       "      <td>7771.4418</td>\n",
       "      <td>11104.1665</td>\n",
       "      <td>76397.8181</td>\n",
       "      <td>18556.3831</td>\n",
       "      <td>11454.4251</td>\n",
       "      <td>49830.7993</td>\n",
       "      <td>42988.0709</td>\n",
       "      <td>16628.0553</td>\n",
       "      <td>651.3589</td>\n",
       "      <td>...</td>\n",
       "      <td>20185.8360</td>\n",
       "      <td>55334.7394</td>\n",
       "      <td>11220.3702</td>\n",
       "      <td>10709.9506</td>\n",
       "      <td>6814.1423</td>\n",
       "      <td>2284.8899</td>\n",
       "      <td>16558.3123</td>\n",
       "      <td>12165.7948</td>\n",
       "      <td>3534.0337</td>\n",
       "      <td>1611.4052</td>\n",
       "    </tr>\n",
       "  </tbody>\n",
       "</table>\n",
       "<p>5 rows × 169 columns</p>\n",
       "</div>"
      ],
      "text/plain": [
       "countrycode        AFG        AGO         ALB         ARE         ARG  \\\n",
       "year                                                                    \n",
       "2014         2022.0000  8673.0000   9808.0000  72601.0000  19183.0000   \n",
       "2015         1928.0000  8689.0000  10032.0000  74746.0000  19502.0000   \n",
       "2016         1929.0000  8453.0000  10342.0000  75876.0000  18875.0000   \n",
       "2017         2014.7453  8146.4354  10702.1201  76643.4984  19200.9061   \n",
       "2018         1934.5550  7771.4418  11104.1665  76397.8181  18556.3831   \n",
       "\n",
       "countrycode         ARM         AUS         AUT         AZE       BDI  ...  \\\n",
       "year                                                                   ...   \n",
       "2014          9735.0000  47867.0000  41338.0000  17439.0000  748.0000  ...   \n",
       "2015         10042.0000  48357.0000  41294.0000  17460.0000  694.0000  ...   \n",
       "2016         10080.0000  48845.0000  41445.0000  16645.0000  665.0000  ...   \n",
       "2017         10859.3783  49265.6135  42177.3706  16522.3072  671.3169  ...   \n",
       "2018         11454.4251  49830.7993  42988.0709  16628.0553  651.3589  ...   \n",
       "\n",
       "countrycode         URY         USA         UZB         VEN        VNM  \\\n",
       "year                                                                     \n",
       "2014         19160.0000  51664.0000   9085.0000  20317.0000  5455.0000   \n",
       "2015         19244.0000  52591.0000   9720.0000  18802.0000  5763.0000   \n",
       "2016         19468.0000  53015.0000  10381.0000  15219.0000  6062.0000   \n",
       "2017         19918.1361  54007.7698  10743.8666  12879.1350  6422.0865   \n",
       "2018         20185.8360  55334.7394  11220.3702  10709.9506  6814.1423   \n",
       "\n",
       "countrycode        YEM         YUG         ZAF        ZMB        ZWE  \n",
       "year                                                                  \n",
       "2014         4054.0000  14627.0000  12242.0000  3478.0000  1594.0000  \n",
       "2015         2844.0000  14971.0000  12246.0000  3478.0000  1560.0000  \n",
       "2016         2506.0000  15416.0000  12139.0000  3479.0000  1534.0000  \n",
       "2017         2321.9239  15960.8432  12189.3579  3497.5818  1582.3662  \n",
       "2018         2284.8899  16558.3123  12165.7948  3534.0337  1611.4052  \n",
       "\n",
       "[5 rows x 169 columns]"
      ]
     },
     "execution_count": 77,
     "metadata": {},
     "output_type": "execute_result"
    }
   ],
   "source": [
    "# Crea un DataFrame 'gdp_pc' desde 'df'.\n",
    "# set_index(['countrycode', 'year']) establece un índice múltiple basado en 'countrycode' y 'year', lo que permite una estructura de datos jerárquica que es útil para series de tiempo y otros análisis multidimensionales.\n",
    "# Se selecciona la columna 'gdppc' (supuestamente Producto Interno Bruto per cápita).\n",
    "# unstack('countrycode') cambia la estructura del DataFrame al convertir el nivel del índice 'countrycode' en columnas, lo que produce un DataFrame donde cada columna representa el PIB per cápita de un país y cada fila representa un año diferente.\n",
    "gdp_pc = df.set_index(['countrycode', 'year'])['gdppc']\n",
    "gdp_pc = gdp_pc.unstack('countrycode')\n",
    "\n",
    "gdp_pc.tail()"
   ]
  },
  {
   "cell_type": "markdown",
   "metadata": {},
   "source": [
    "Creamos una variable color_mapping para almacenar un mapa entre códigos de país y colores por coherencia"
   ]
  },
  {
   "cell_type": "code",
   "execution_count": 78,
   "metadata": {},
   "outputs": [],
   "source": [
    "# 'country_names' obtiene una serie de pandas que contiene los códigos de los países de la columna 'countrycode'.\n",
    "country_names = df['countrycode']\n",
    "\n",
    "# Genera un mapa de colores usando 'tab20', que es un mapa de colores categórico adecuado para datos cualitativos.\n",
    "# 'np.linspace(0, 0.95, len(country_names))' genera una secuencia de valores entre 0 y 0.95,\n",
    "# con tantos valores como número de países, asegurando que cada país tenga un color único.\n",
    "colors = cm.tab20(np.linspace(0, 0.95, len(country_names)))\n",
    "\n",
    "# Crea un diccionario que asocia cada código de país con un color correspondiente.\n",
    "# Esto se logra mediante un bucle que recorre simultáneamente 'country_names' y 'colors'.\n",
    "color_mapping = {country: color for country, color in zip(country_names, colors)}"
   ]
  },
  {
   "cell_type": "markdown",
   "metadata": {},
   "source": []
  },
  {
   "cell_type": "code",
   "execution_count": null,
   "metadata": {},
   "outputs": [
    {
     "name": "stdout",
     "output_type": "stream",
     "text": [
      "Stored 'gdp_pc' (DataFrame)\n",
      "Stored 'color_mapping' (dict)\n",
      "Stored 'code_to_name' (DataFrame)\n"
     ]
    }
   ],
   "source": [
    "%store gdp_pc  color_mapping code_to_name\n"
   ]
  },
  {
   "cell_type": "code",
   "execution_count": null,
   "metadata": {},
   "outputs": [],
   "source": []
  },
  {
   "cell_type": "code",
   "execution_count": null,
   "metadata": {},
   "outputs": [],
   "source": []
  },
  {
   "cell_type": "code",
   "execution_count": null,
   "metadata": {},
   "outputs": [],
   "source": []
  },
  {
   "cell_type": "code",
   "execution_count": null,
   "metadata": {},
   "outputs": [],
   "source": []
  },
  {
   "cell_type": "code",
   "execution_count": null,
   "metadata": {},
   "outputs": [],
   "source": []
  },
  {
   "cell_type": "code",
   "execution_count": null,
   "metadata": {},
   "outputs": [],
   "source": []
  }
 ],
 "metadata": {
  "kernelspec": {
   "display_name": "base",
   "language": "python",
   "name": "python3"
  },
  "language_info": {
   "codemirror_mode": {
    "name": "ipython",
    "version": 3
   },
   "file_extension": ".py",
   "mimetype": "text/x-python",
   "name": "python",
   "nbconvert_exporter": "python",
   "pygments_lexer": "ipython3",
   "version": "3.11.7"
  }
 },
 "nbformat": 4,
 "nbformat_minor": 2
}
